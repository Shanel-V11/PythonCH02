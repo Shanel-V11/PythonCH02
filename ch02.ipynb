{
 "cells": [
  {
   "cell_type": "markdown",
   "metadata": {},
   "source": [
    "# <p style=\"font-family: Arial; font-size:2.4em;color:red;\"> Contents </p>\n",
    "*[Section 1. Arithmetic Operator](ch02.ipynb/#section1) <br>\n",
    "*[Section 2. Variables ](#section2) <br>\n",
    "*[Section 3. Output in Python ](#section3) <br>\n",
    "*[Section 4. Input Statement ](#section4) <br>\n",
    "*[Section 5. String ](#section5) <br>\n",
    "***"
   ]
  },
  {
   "cell_type": "markdown",
   "metadata": {},
   "source": [
    "***\n",
    "<a id=\"section1\"></a>\n",
    "# <p style=\"font-family: Arial; font-size:2.4em;color:red;\"> 1. Arithmetic Operator </p>\n",
    "### <p style=\"font-family: Arial; font-size:1.4em;color:gold;\">  +, -, *, / , // </p>\n"
   ]
  },
  {
   "cell_type": "markdown",
   "metadata": {},
   "source": [
    "### Run all the blow code cells and see the results (click the cell and press \"ctrl-enter\" to run it)"
   ]
  },
  {
   "cell_type": "markdown",
   "metadata": {},
   "source": [
    "#### **Problem #1.0**\n",
    "\n",
    "Run the below code cell and figure out the data type of values\n",
    "<br>\n"
   ]
  },
  {
   "cell_type": "code",
   "execution_count": 2,
   "metadata": {},
   "outputs": [
    {
     "data": {
      "text/plain": [
       "30"
      ]
     },
     "execution_count": 2,
     "metadata": {},
     "output_type": "execute_result"
    }
   ],
   "source": [
    "10 + 20"
   ]
  },
  {
   "cell_type": "code",
   "execution_count": 3,
   "metadata": {},
   "outputs": [
    {
     "data": {
      "text/plain": [
       "30.0"
      ]
     },
     "execution_count": 3,
     "metadata": {},
     "output_type": "execute_result"
    }
   ],
   "source": [
    "10.0 + 20.0"
   ]
  },
  {
   "cell_type": "code",
   "execution_count": 4,
   "metadata": {},
   "outputs": [
    {
     "data": {
      "text/plain": [
       "200"
      ]
     },
     "execution_count": 4,
     "metadata": {},
     "output_type": "execute_result"
    }
   ],
   "source": [
    "10 * 20"
   ]
  },
  {
   "cell_type": "code",
   "execution_count": 5,
   "metadata": {},
   "outputs": [
    {
     "data": {
      "text/plain": [
       "0.5"
      ]
     },
     "execution_count": 5,
     "metadata": {},
     "output_type": "execute_result"
    }
   ],
   "source": [
    "10 / 20"
   ]
  },
  {
   "cell_type": "code",
   "execution_count": 6,
   "metadata": {},
   "outputs": [
    {
     "data": {
      "text/plain": [
       "0"
      ]
     },
     "execution_count": 6,
     "metadata": {},
     "output_type": "execute_result"
    }
   ],
   "source": [
    "10 // 20"
   ]
  },
  {
   "cell_type": "code",
   "execution_count": 7,
   "metadata": {},
   "outputs": [
    {
     "data": {
      "text/plain": [
       "2"
      ]
     },
     "execution_count": 7,
     "metadata": {},
     "output_type": "execute_result"
    }
   ],
   "source": [
    "5 * 10 // 20"
   ]
  },
  {
   "cell_type": "code",
   "execution_count": 8,
   "metadata": {},
   "outputs": [
    {
     "data": {
      "text/plain": [
       "150"
      ]
     },
     "execution_count": 8,
     "metadata": {},
     "output_type": "execute_result"
    }
   ],
   "source": [
    "5 * 30 + 10 // 20 "
   ]
  },
  {
   "cell_type": "code",
   "execution_count": 9,
   "metadata": {},
   "outputs": [
    {
     "data": {
      "text/plain": [
       "75.0"
      ]
     },
     "execution_count": 9,
     "metadata": {},
     "output_type": "execute_result"
    }
   ],
   "source": [
    "5 * 30 / 2"
   ]
  },
  {
   "cell_type": "code",
   "execution_count": 10,
   "metadata": {},
   "outputs": [
    {
     "data": {
      "text/plain": [
       "3"
      ]
     },
     "execution_count": 10,
     "metadata": {},
     "output_type": "execute_result"
    }
   ],
   "source": [
    "75 // 20"
   ]
  },
  {
   "cell_type": "code",
   "execution_count": 11,
   "metadata": {},
   "outputs": [
    {
     "data": {
      "text/plain": [
       "3.0"
      ]
     },
     "execution_count": 11,
     "metadata": {},
     "output_type": "execute_result"
    }
   ],
   "source": [
    "5 * 30 / 2 // 20 "
   ]
  },
  {
   "cell_type": "markdown",
   "metadata": {},
   "source": [
    "#### **Problem #1.1**\n",
    "\n",
    "Complete the follow code cells \n",
    "<br>\n"
   ]
  },
  {
   "cell_type": "markdown",
   "metadata": {},
   "source": [
    "#### Let's multiply 24.0 and 25.4"
   ]
  },
  {
   "cell_type": "code",
   "execution_count": 12,
   "metadata": {},
   "outputs": [
    {
     "data": {
      "text/plain": [
       "609.5999999999999"
      ]
     },
     "execution_count": 12,
     "metadata": {},
     "output_type": "execute_result"
    }
   ],
   "source": [
    "24.0 * 25.4"
   ]
  },
  {
   "cell_type": "markdown",
   "metadata": {},
   "source": [
    "#### Let's divide 23 by 2"
   ]
  },
  {
   "cell_type": "code",
   "execution_count": 13,
   "metadata": {},
   "outputs": [
    {
     "data": {
      "text/plain": [
       "11.5"
      ]
     },
     "execution_count": 13,
     "metadata": {},
     "output_type": "execute_result"
    }
   ],
   "source": [
    "23 / 2"
   ]
  },
  {
   "cell_type": "markdown",
   "metadata": {},
   "source": [
    "#### Let's divide 100 by 20. Show the result as an integer value like 5, not 5.0"
   ]
  },
  {
   "cell_type": "code",
   "execution_count": 14,
   "metadata": {},
   "outputs": [
    {
     "data": {
      "text/plain": [
       "5"
      ]
     },
     "execution_count": 14,
     "metadata": {},
     "output_type": "execute_result"
    }
   ],
   "source": [
    "int(100/20)"
   ]
  },
  {
   "cell_type": "markdown",
   "metadata": {},
   "source": [
    "## Don't forget to <font color='red'> **\"commit\"** </font> your work or <font color='red'> **\"save\"** </font> in Google Colab\n",
    "## before moving to the next section."
   ]
  },
  {
   "attachments": {},
   "cell_type": "markdown",
   "metadata": {},
   "source": [
    "***\n",
    "<a id=\"section2\"></a>\n",
    "# <p style=\"font-family: Arial; font-size:2.4em;color:red;\"> 2. Variables</p>\n",
    "\n",
    "#### Concepts:\n",
    "<blockquote> A variable is a name that represents a value stored in the computer’s memory. \n",
    "</blockquote>\n"
   ]
  },
  {
   "attachments": {},
   "cell_type": "markdown",
   "metadata": {},
   "source": [
    "<blockquote>\n",
    "An assignment statement is written in the following general format:\n",
    "variable = expression\n",
    "</blockquote>"
   ]
  },
  {
   "cell_type": "code",
   "execution_count": 15,
   "metadata": {},
   "outputs": [],
   "source": [
    "width = 10\n",
    "length = 5\n",
    "\n",
    "length = 10 "
   ]
  },
  {
   "cell_type": "code",
   "execution_count": 16,
   "metadata": {},
   "outputs": [
    {
     "data": {
      "text/plain": [
       "'Python'"
      ]
     },
     "execution_count": 16,
     "metadata": {},
     "output_type": "execute_result"
    }
   ],
   "source": [
    "class_name = 'Python'\n",
    "class_name"
   ]
  },
  {
   "cell_type": "markdown",
   "metadata": {},
   "source": [
    "#### **Problem #2.0**\n",
    "\n",
    "Run the below code cell and figure out the data type of values\n",
    "<br>\n"
   ]
  },
  {
   "cell_type": "code",
   "execution_count": 17,
   "metadata": {},
   "outputs": [
    {
     "data": {
      "text/plain": [
       "int"
      ]
     },
     "execution_count": 17,
     "metadata": {},
     "output_type": "execute_result"
    }
   ],
   "source": [
    "type(width)"
   ]
  },
  {
   "cell_type": "code",
   "execution_count": 18,
   "metadata": {},
   "outputs": [
    {
     "data": {
      "text/plain": [
       "str"
      ]
     },
     "execution_count": 18,
     "metadata": {},
     "output_type": "execute_result"
    }
   ],
   "source": [
    "\n",
    "type(class_name)"
   ]
  },
  {
   "cell_type": "code",
   "execution_count": 19,
   "metadata": {},
   "outputs": [
    {
     "name": "stdout",
     "output_type": "stream",
     "text": [
      "Hello World\n"
     ]
    }
   ],
   "source": [
    "print (\"Hello World\")"
   ]
  },
  {
   "cell_type": "markdown",
   "metadata": {},
   "source": [
    "#### **Problem #2.1**\n",
    "\n",
    "\n",
    "let's create a variable called `my_school` and assign a string (anything inside quotes: `\"...\"`) to it with your school's name.\n",
    "\n",
    "<br>\n",
    "\n",
    "**NOTE**: We will output the variable's value by writing the name of the variable on a line of its own."
   ]
  },
  {
   "cell_type": "code",
   "execution_count": 21,
   "metadata": {},
   "outputs": [
    {
     "data": {
      "text/plain": [
       "'VCCC'"
      ]
     },
     "execution_count": 21,
     "metadata": {},
     "output_type": "execute_result"
    }
   ],
   "source": [
    "my_school = \"VCCC\"\n",
    "\n",
    "my_school"
   ]
  },
  {
   "cell_type": "markdown",
   "metadata": {},
   "source": [
    "#### **Problem #2.2**\n",
    "\n",
    "Let's create <font color=\"red\"> two varibles </font> to hold two scores 100 and 90 repectivelu and show the sum of two scores.\n",
    "<br>\n",
    "\n",
    "**NOTE**: We will output the variable's value by writing the name of the variable on a line of its own."
   ]
  },
  {
   "cell_type": "code",
   "execution_count": 23,
   "metadata": {},
   "outputs": [
    {
     "name": "stdout",
     "output_type": "stream",
     "text": [
      "100\n",
      "90\n"
     ]
    }
   ],
   "source": [
    "\n",
    "score1 = \"100\"\n",
    "score2 = \"90\"\n",
    "print (score1)\n",
    "print (score2)\n",
    "# complete this code to show the sum of two scores"
   ]
  },
  {
   "cell_type": "markdown",
   "metadata": {},
   "source": [
    "#### **Problem #2.3**\n",
    "\n",
    "Let's create the <font color=\"red\"> **varibles** </font> to hold two values,  <br>\n",
    "100  <br>\n",
    "50.99   <br>\n",
    "<br> \n",
    "The variable names can be any names you want\n",
    "Then, show the summation of two variables.\n",
    "\n",
    "**NOTE**: We will output the variable's value by writing the name of the variable on a line of its own."
   ]
  },
  {
   "cell_type": "code",
   "execution_count": 27,
   "metadata": {},
   "outputs": [
    {
     "name": "stdout",
     "output_type": "stream",
     "text": [
      "rating1 equals  100\n",
      "rating2 equals  50.99\n",
      "150.99\n"
     ]
    }
   ],
   "source": [
    "\n",
    "rating1 = 100\n",
    "rating2 = 50.99\n",
    "print ('rating1 equals ', rating1)\n",
    "print ('rating2 equals ', rating2)\n",
    "print (rating1 + rating2)\n",
    "# complete this code = 100\n",
    "# Complete this code = 50.99\n",
    "# complete this code to show the sum of two values"
   ]
  },
  {
   "cell_type": "markdown",
   "metadata": {},
   "source": [
    "#### **Problem #2.4**\n",
    "\n",
    "Let's create the <font color=\"red\"> **varibles** </font> to hold two values,  <br>\n",
    "<br><mark style=\"background-color:green; color:white\">\n",
    "Python  <br>\n",
    "Programming   <br>\n",
    "</mark>\n",
    "<br> </font>\n",
    "The variable names can be any names you want\n",
    "Then, show the summation of two variables.\n",
    "\n",
    "**NOTE**: We will output the variable's value by writing the name of the variable on a line of its own."
   ]
  },
  {
   "cell_type": "code",
   "execution_count": 29,
   "metadata": {},
   "outputs": [
    {
     "data": {
      "text/plain": [
       "'PythonProgramming'"
      ]
     },
     "execution_count": 29,
     "metadata": {},
     "output_type": "execute_result"
    }
   ],
   "source": [
    "# complete this code to hold the values \"Python\" \n",
    "python = \"Python\"\n",
    "# complete this code to hold the values \"Programming\" \n",
    "programming = \"Programming\"\n",
    "# complete this code to show the sum of two values\n",
    "python + programming"
   ]
  },
  {
   "cell_type": "markdown",
   "metadata": {},
   "source": [
    "#### **Problem #2.5**\n",
    "\n",
    "#### make the expression to calculate the following math expression\n",
    "#### Set 30 to C and Solve the F value\n",
    "![Math Expression](https://wecapable.com/tools/celsius-to-fahrenheit/celsius-to-fahrenheit-conversion-formula-igetanswers.jpg)\n",
    "\n",
    "<br> Show the answer for F\n"
   ]
  },
  {
   "cell_type": "code",
   "execution_count": 30,
   "metadata": {},
   "outputs": [
    {
     "data": {
      "text/plain": [
       "86.0"
      ]
     },
     "execution_count": 30,
     "metadata": {},
     "output_type": "execute_result"
    }
   ],
   "source": [
    "C = 30\n",
    "# complete this code\n",
    "(9 / 5) * C + 32"
   ]
  },
  {
   "cell_type": "markdown",
   "metadata": {},
   "source": [
    "#### **Problem #2.6**\n",
    "\n",
    "#### Set the price value $200 to your variable (any variable name you want)\n",
    "#### Calculate the 20% off price\n",
    "#### Show the final price \n",
    "\n"
   ]
  },
  {
   "cell_type": "code",
   "execution_count": 31,
   "metadata": {},
   "outputs": [
    {
     "name": "stdout",
     "output_type": "stream",
     "text": [
      "total price is 160.0\n"
     ]
    }
   ],
   "source": [
    "price = 200\n",
    "# complete your code\n",
    "discount = .2\n",
    "discount_total = price * discount\n",
    "print (\"total price is\",price - discount_total)"
   ]
  },
  {
   "cell_type": "markdown",
   "metadata": {},
   "source": [
    "#### **Problem #2.7**\n",
    "\n",
    "#### Create three integer variables to hold the following values\n",
    "##### 100\n",
    "##### 50\n",
    "##### 200\n",
    "\n",
    "#### Calculate the average of three values \n",
    "#### Show the average \n",
    "\n"
   ]
  },
  {
   "cell_type": "code",
   "execution_count": 35,
   "metadata": {},
   "outputs": [
    {
     "name": "stdout",
     "output_type": "stream",
     "text": [
      "the average is 116\n"
     ]
    }
   ],
   "source": [
    "num1 = int (100)\n",
    "num2 = int (50)\n",
    "num3 = int (200)\n",
    "# complete this code\n",
    "total_num = num1 + num2 + num3\n",
    "print(\"the average is\", int(total_num / 3))"
   ]
  },
  {
   "cell_type": "markdown",
   "metadata": {},
   "source": [
    "## Don't forget to <font color='red'> **\"commit\"** </font> your work or <font color='red'> **\"save\"** </font> in Google Colab\n",
    "## before moving to the next section."
   ]
  },
  {
   "attachments": {},
   "cell_type": "markdown",
   "metadata": {},
   "source": [
    "***\n",
    "<a id='section3'></a>\n",
    "# <p style=\"font-family: Arial; font-size:2.4em;color:Red;\"> 3. Output in Python </p>\n"
   ]
  },
  {
   "attachments": {},
   "cell_type": "markdown",
   "metadata": {},
   "source": [
    "### Simple Formatting Numbers\n",
    "\n",
    "\n",
    "- `Simple way to print with format:` \n",
    "\n",
    "\t- <a href=\"https://docs.python.org/3/library/functions.html?highlight=format#format\"> format(value[, format_spec])\n",
    "\t</a>\n",
    "\t- <a href=\"https://docs.python.org/3/library/string.html#formatspec\"> Format Specification </a>\n",
    "\n",
    "![Format Specifier](https://nimbus-screenshots.s3.amazonaws.com/s/cc0c0ec7efc3aba9bc4406f053b8fdf4.png)\n"
   ]
  },
  {
   "cell_type": "markdown",
   "metadata": {},
   "source": [
    "#### <font color='red'> **Problem #3.1** </font>\n",
    "\n",
    "#### Run all the below cells and figure out the output format symbols \n",
    "\n"
   ]
  },
  {
   "attachments": {},
   "cell_type": "markdown",
   "metadata": {},
   "source": [
    "### <mark style=\"background-color:green; color:white\"> formatting </mark>"
   ]
  },
  {
   "cell_type": "code",
   "execution_count": 36,
   "metadata": {},
   "outputs": [
    {
     "name": "stdout",
     "output_type": "stream",
     "text": [
      "123456789\n",
      "      123456789\n",
      "12345.68\n"
     ]
    }
   ],
   "source": [
    "# Format with width, Decimal / Float \n",
    "\n",
    "print ( 123456789 ) \n",
    "print (format(123456789, '15d'))\n",
    "print (format(12345.678, '.2f'))\n"
   ]
  },
  {
   "cell_type": "code",
   "execution_count": 37,
   "metadata": {},
   "outputs": [
    {
     "name": "stdout",
     "output_type": "stream",
     "text": [
      "1.234568e+04\n",
      "1.23e+04\n"
     ]
    }
   ],
   "source": [
    "# Scientific Notation\n",
    "\n",
    "print (format(12345.6789, 'e'))\n",
    "print (format(12345.6789, '.2e'))\n"
   ]
  },
  {
   "cell_type": "code",
   "execution_count": 38,
   "metadata": {},
   "outputs": [
    {
     "name": "stdout",
     "output_type": "stream",
     "text": [
      "123,456,789.12\n"
     ]
    }
   ],
   "source": [
    "#? Inserting comma separator\n",
    "\n",
    "print (format(123456789.12345, ',.2f'))\n"
   ]
  },
  {
   "cell_type": "code",
   "execution_count": 39,
   "metadata": {},
   "outputs": [
    {
     "name": "stdout",
     "output_type": "stream",
     "text": [
      "1234567.89%\n"
     ]
    }
   ],
   "source": [
    "#? Floating point numbers as a percentage\n",
    "\n",
    "print (format(12345.6789, '.2%'))"
   ]
  },
  {
   "attachments": {},
   "cell_type": "markdown",
   "metadata": {},
   "source": [
    "### <mark style=\"background-color:green; color:white\"> % formatting </mark>"
   ]
  },
  {
   "cell_type": "code",
   "execution_count": 40,
   "metadata": {},
   "outputs": [
    {
     "name": "stdout",
     "output_type": "stream",
     "text": [
      "Value 1 is 1000\n"
     ]
    }
   ],
   "source": [
    "val1 =  1000\n",
    "print (\"Value 1 is %d\" % (val1))"
   ]
  },
  {
   "cell_type": "code",
   "execution_count": 41,
   "metadata": {},
   "outputs": [
    {
     "name": "stdout",
     "output_type": "stream",
     "text": [
      "Integer value: 100, String Value: COMSC140, Floating Value:1234.57\n"
     ]
    }
   ],
   "source": [
    "\n",
    "val1 = 100\n",
    "val2 = 1234.5678\n",
    "strval = \"COMSC140\"\n",
    "\n",
    "print (\"Integer value: %d, String Value: %s, Floating Value:%.2f\" % (val1, strval, val2))"
   ]
  },
  {
   "attachments": {},
   "cell_type": "markdown",
   "metadata": {},
   "source": [
    "#### <mark style=\"background-color:green; color:white\"> Using the String format </mark>"
   ]
  },
  {
   "cell_type": "code",
   "execution_count": 42,
   "metadata": {},
   "outputs": [
    {
     "name": "stdout",
     "output_type": "stream",
     "text": [
      "Python Programming Class\n"
     ]
    }
   ],
   "source": [
    "print ( '{0} {1} Class'.format('Python', 'Programming'))"
   ]
  },
  {
   "cell_type": "code",
   "execution_count": 43,
   "metadata": {},
   "outputs": [
    {
     "name": "stdout",
     "output_type": "stream",
     "text": [
      "                   Python Programming     Class\n"
     ]
    }
   ],
   "source": [
    "print ( '{0:>25} {1:15} Class'.format('Python', 'Programming'))"
   ]
  },
  {
   "cell_type": "code",
   "execution_count": 44,
   "metadata": {},
   "outputs": [
    {
     "name": "stdout",
     "output_type": "stream",
     "text": [
      "This spam is absolutely horrible.\n"
     ]
    }
   ],
   "source": [
    "print('This {food} is {adjective}.'.format(food='spam', adjective='absolutely horrible'))"
   ]
  },
  {
   "cell_type": "code",
   "execution_count": 45,
   "metadata": {},
   "outputs": [
    {
     "name": "stdout",
     "output_type": "stream",
     "text": [
      "Value 1: 100 and Value 2: 200\n"
     ]
    }
   ],
   "source": [
    "v1 = 100; v2 = 200\n",
    "\n",
    "print (\"Value 1: {} and Value 2: {}\".format(v1, v2))"
   ]
  },
  {
   "cell_type": "code",
   "execution_count": 46,
   "metadata": {},
   "outputs": [
    {
     "name": "stdout",
     "output_type": "stream",
     "text": [
      "The average is 56.67 \n",
      "The average is 56.67 \n",
      "The average is 60.00\n"
     ]
    }
   ],
   "source": [
    "avg = (100 + 50 + 20) / 3\n",
    "\n",
    "print (\"The average is {0:.2f} \".format(avg))\n",
    "print (\"The average is {:.2f} \".format(avg))\n",
    "\n",
    "print('The average is {0:.2f}'.format(59.999999))"
   ]
  },
  {
   "cell_type": "code",
   "execution_count": 47,
   "metadata": {},
   "outputs": [
    {
     "name": "stdout",
     "output_type": "stream",
     "text": [
      "12345.68\n",
      "     12345\n",
      "1.234568e+04\n",
      "1.23e+04\n",
      "1234567.89%\n"
     ]
    }
   ],
   "source": [
    "print ( format(12345.6789, '.2f'))\n",
    "print ( format(12345, '10d'))\n",
    "print ( format(12345.6789, 'e'))\n",
    "print ( format(12345.6789, '.2e'))\n",
    "print ( format(12345.6789, '.2%'))"
   ]
  },
  {
   "cell_type": "code",
   "execution_count": 48,
   "metadata": {},
   "outputs": [
    {
     "name": "stdout",
     "output_type": "stream",
     "text": [
      "one\n",
      "two\n",
      "three\n",
      "one two three one/two/three\n"
     ]
    }
   ],
   "source": [
    "# 2.8 More about Data output\n",
    "\n",
    "print ('one')\n",
    "print ('two')\n",
    "print ('three')\n",
    "\n",
    "print ('one', end=' ')\n",
    "print ('two', end=' ')\n",
    "print ('three', end=' ')\n",
    "\n",
    "#? Specifying an Item Separator\n",
    "print ('one', 'two', 'three', sep='/')\n"
   ]
  },
  {
   "attachments": {},
   "cell_type": "markdown",
   "metadata": {},
   "source": [
    "## 👉✅ <mark style=\"background-color:green; color:white\"> PEP 498; f-string </mark>"
   ]
  },
  {
   "cell_type": "code",
   "execution_count": 49,
   "metadata": {},
   "outputs": [
    {
     "name": "stdout",
     "output_type": "stream",
     "text": [
      "The value is 10\n",
      "The value is                   10\n",
      "The value is      12.34\n",
      "The value is 12.34000\n",
      "The string value is                                 Python Programming\n"
     ]
    }
   ],
   "source": [
    "value = 10\n",
    "\n",
    "print (f'The value is {value}')\n",
    "print (f'The value is {value:20}')\n",
    "\n",
    "fvalue = 12.34\n",
    "print (f'The value is {fvalue:>10}')\n",
    "print (f'The value is {fvalue:.5f}')\n",
    "\n",
    "strval = \"Python Programming\"\n",
    "print (f\"The string value is {strval:>50}\")"
   ]
  },
  {
   "cell_type": "markdown",
   "metadata": {},
   "source": [
    "## Don't forget to <font color='red'> **\"commit\"** </font> your work or <font color='red'> **\"save\"** </font> in Google Colab\n",
    "## before moving to the next section."
   ]
  },
  {
   "attachments": {},
   "cell_type": "markdown",
   "metadata": {},
   "source": [
    "***\n",
    "### Operators\n",
    "![Operators](https://p76.f0.n0.cdn.getcloudapp.com/items/6quEZnzo/bd9ed612-c454-488d-99e3-47237866c01e.jpg?source=viewer&v=6133a6ca78498b57666506941afd8a12)"
   ]
  },
  {
   "attachments": {},
   "cell_type": "markdown",
   "metadata": {},
   "source": [
    "***\n",
    "<a id='section4'> </a>\n",
    "# <p style=\"font-family: Arial; font-size:2.4em;color:Red;\"> 4. Input Statement </p>\n",
    "\n",
    "<blockquote>\n",
    "variable = input(prompt)\n",
    "</blockquote>"
   ]
  },
  {
   "cell_type": "markdown",
   "metadata": {},
   "source": [
    "#### **Problem #4.0**\n",
    "\n",
    "#### Run all the following codes and see the results \n",
    "#### <font color=\"red\">\"Where does the input box appear?\" </font>"
   ]
  },
  {
   "cell_type": "code",
   "execution_count": 50,
   "metadata": {},
   "outputs": [
    {
     "name": "stdout",
     "output_type": "stream",
     "text": [
      "Your score is  1\n"
     ]
    }
   ],
   "source": [
    "score = input('Enter your score')\n",
    "print ('Your score is ', score)\n"
   ]
  },
  {
   "cell_type": "code",
   "execution_count": 55,
   "metadata": {},
   "outputs": [
    {
     "ename": "TypeError",
     "evalue": "can only concatenate str (not \"int\") to str",
     "output_type": "error",
     "traceback": [
      "\u001b[0;31m---------------------------------------------------------------------------\u001b[0m",
      "\u001b[0;31mTypeError\u001b[0m                                 Traceback (most recent call last)",
      "Cell \u001b[0;32mIn[55], line 2\u001b[0m\n\u001b[1;32m      1\u001b[0m score \u001b[38;5;241m=\u001b[39m \u001b[38;5;28minput\u001b[39m (\u001b[38;5;124m'\u001b[39m\u001b[38;5;124mEnter your score\u001b[39m\u001b[38;5;124m'\u001b[39m)\n\u001b[0;32m----> 2\u001b[0m final_score \u001b[38;5;241m=\u001b[39m score \u001b[38;5;241m+\u001b[39m \u001b[38;5;241m100\u001b[39m;\t\t\u001b[38;5;66;03m# this line causes an error\u001b[39;00m\n\u001b[1;32m      4\u001b[0m \u001b[38;5;28mprint\u001b[39m (final_score)\n",
      "\u001b[0;31mTypeError\u001b[0m: can only concatenate str (not \"int\") to str"
     ]
    }
   ],
   "source": [
    "score = input ('Enter your score')\n",
    "final_score = score + 100;\t\t# this line causes an error\n",
    "\n",
    "print (final_score)"
   ]
  },
  {
   "cell_type": "code",
   "execution_count": 56,
   "metadata": {},
   "outputs": [
    {
     "name": "stdout",
     "output_type": "stream",
     "text": [
      "Final Score is        101\n"
     ]
    }
   ],
   "source": [
    "score = input ('Enter your score')\n",
    "final_score = int(score) + 100;\t\t# this line causes an error\n",
    "\n",
    "print (f'Final Score is {final_score:10}')"
   ]
  },
  {
   "cell_type": "markdown",
   "metadata": {},
   "source": [
    "#### **Problem #4.1**\n",
    "<ol>\n",
    "<li> <font color=\"red\"> Ask the user name and score </font> </li>\n",
    "<li> Print the name and score </li>\n",
    "</ol>"
   ]
  },
  {
   "cell_type": "code",
   "execution_count": 63,
   "metadata": {},
   "outputs": [
    {
     "name": "stdout",
     "output_type": "stream",
     "text": [
      "Shanel100\n"
     ]
    }
   ],
   "source": [
    "name = input('user name')\n",
    "score = input('user score')\n",
    "# complete the code\n",
    "print (name + score)"
   ]
  },
  {
   "cell_type": "markdown",
   "metadata": {},
   "source": [
    "#### **Problem #4.2**\n",
    "<ol>\n",
    "<li> <font color=\"red\"> Ask two scores </font> </li>\n",
    "<li> Print all the scores, summation and average </li>\n",
    "</ol>\n",
    "\n",
    "<ul>\n",
    "<li> Why should we use the funtion <font color=\"red\"> int()</font> for the scores? </li>\n",
    "</ul>"
   ]
  },
  {
   "cell_type": "code",
   "execution_count": 64,
   "metadata": {},
   "outputs": [
    {
     "name": "stdout",
     "output_type": "stream",
     "text": [
      "77.5\n"
     ]
    }
   ],
   "source": [
    "score1 = int(input('Enter the score 1'))\n",
    "score2 = int(input('Enter the score 2'))\n",
    "# Complete the code\n",
    "score_total = score1 + score2\n",
    "average = score_total / 2\n",
    "print (average)"
   ]
  },
  {
   "cell_type": "markdown",
   "metadata": {},
   "source": [
    "#### **Problem #4.3**\n",
    "<ol>\n",
    "<li> Ask the regular price \n",
    "<li> Ask the discount rate as a percentage(e.g, 30)</li>\n",
    "<li> Calcurate the final price ( Regular price * discount_rate / 100 ) </li>\n",
    "<li> Print Regular Prices, Discount Rate and Final Price with F-String format </li>\n",
    "</ol>\n",
    "<ul>\n",
    "<li> For example, print (f'Regular Price: {rprice:10}, Discount Rate: {drate:10}, Final Price: {fprice}) </li> \n",
    "</ul>"
   ]
  },
  {
   "cell_type": "code",
   "execution_count": 85,
   "metadata": {},
   "outputs": [
    {
     "name": "stdout",
     "output_type": "stream",
     "text": [
      "Regular Price:  25 , Discount Rate:  40 , Final Price: 15.0\n"
     ]
    }
   ],
   "source": [
    "# Complete the code\n",
    "# Regular price rprice 25\n",
    "# discount rate drate 40%\n",
    "# Calculate final price fprice rprice * drate / 100\n",
    "rPrice = 25\n",
    "dRate = 40\n",
    "dPercentage = rPrice * (dRate / 100)\n",
    "fPrice = rPrice - dPercentage\n",
    "print (f'Regular Price: {rPrice:3} , Discount Rate: {dRate:3} , Final Price: {fPrice:3}')"
   ]
  },
  {
   "cell_type": "markdown",
   "metadata": {},
   "source": [
    "#### **Problem #4.4**\n",
    "<ol>\n",
    "<li> Ask the regular price \n",
    "<li> Ask the discount rate as a percentage(e.g, 30)</li>\n",
    "<li> Calcurate the discount price ( Regular price * discount_rate / 100 ) </li>\n",
    "<li> Print Regular Prices, Discount Rate and Final Price with F-String format </li>\n",
    "</ol>\n",
    "<ul>\n",
    "<li> For example, </li>\n",
    "<pre>\n",
    "print (f'Regular Price: {rprice:10}, Discount Rate: {drate:10}, Final Price: {fprice}) \n",
    "<pre>\n",
    "</ul>"
   ]
  },
  {
   "cell_type": "code",
   "execution_count": 89,
   "metadata": {},
   "outputs": [
    {
     "name": "stdout",
     "output_type": "stream",
     "text": [
      "Regular Price:  67 , Discount Rate:  30 , Final Price: 46.90\n"
     ]
    }
   ],
   "source": [
    "# Complete the code\n",
    "# Regular price rprice 25\n",
    "# discount rate drate 40%\n",
    "# Calculate final price fprice rprice * drate / 100\n",
    "rPrice = 67\n",
    "dRate = 30\n",
    "dPercentage = rPrice * (dRate / 100)\n",
    "fPrice = rPrice - dPercentage\n",
    "print (f'Regular Price: {rPrice:3} , Discount Rate: {dRate:3} , Final Price: {fPrice:3,.2f}')"
   ]
  },
  {
   "cell_type": "markdown",
   "metadata": {},
   "source": [
    "#### **Problem #4.5**\n",
    "<ol>\n",
    "<li> Ask the celcius temperature(<font color=\"red\">floating value</font>) to the user \n",
    "<li> Calculate the Farenheit Temperature </li>\n",
    "<li> Print the Celcius and Farenheit Temperature with F-String format. Show the two practional digits </li>\n",
    "</ol>\n",
    "<ul>\n",
    "<li> For example, </li>\n",
    "<pre>\n",
    "print (f'Inputted Celcius: {celcius:10.2f}, Converted Fahrenhiet: {fahrenheit:10.2f}') \n",
    "<pre>\n",
    "</ul>"
   ]
  },
  {
   "cell_type": "code",
   "execution_count": 96,
   "metadata": {},
   "outputs": [
    {
     "name": "stdout",
     "output_type": "stream",
     "text": [
      "Inputted Celsius:  12.00, Converted Fahrenheit 53.60\n"
     ]
    }
   ],
   "source": [
    "# Celcius temperature (floating) = 12\n",
    "celcius = 12\n",
    "# Calculate Farenheit Temperature formula = {celsius}C * (9 / 5) + 32 = Fahrenheit\n",
    "fahrenheit = (celcius * (9 / 5)) + 32\n",
    "# Print the output with F-string format(2 digits after decimal points)\n",
    "print (f'Inputted Celsius: {celcius: 3.2f}, Converted Fahrenheit {fahrenheit:3.2f}')\n"
   ]
  },
  {
   "cell_type": "markdown",
   "metadata": {},
   "source": [
    "#### **Problem #4.6**\n",
    "\n",
    "<ol>\n",
    "<li> Ask the last name to the user </li>\n",
    "<li> Ask the first name to the user </li>\n",
    "<li> Print the first and last name in the seprated line </li>\n",
    "</ol>"
   ]
  },
  {
   "cell_type": "code",
   "execution_count": 98,
   "metadata": {},
   "outputs": [
    {
     "name": "stdout",
     "output_type": "stream",
     "text": [
      " First name: Jon \n",
      " Last name: Snow\n"
     ]
    }
   ],
   "source": [
    "# Complete your code\n",
    "fname = input('User first name')\n",
    "lname = input('User last name')\n",
    "print (f' First name: {fname} \\n Last name: {lname}')\n",
    "# print (f' First name: {fname} \\n Last name: {lname}')"
   ]
  },
  {
   "cell_type": "markdown",
   "metadata": {},
   "source": [
    "## Don't forget to <font color='red'> **\"commit\"** </font> your work or <font color='red'> **\"save\"** </font> in Google Colab\n",
    "## before moving to the next section."
   ]
  },
  {
   "attachments": {},
   "cell_type": "markdown",
   "metadata": {},
   "source": [
    "<a id=section5></a>\n",
    "# <p style=\"font-family: Arial; font-size:2.4em;color:Red;\"> 5. String </p>\n",
    "<mark style=\"background-color:teal; color:white\"> Useful Links </mark>\n",
    "#### <a href=\"https://docs.python.org/3/library/stdtypes.html#string-methods\"> String Method in Python Documentation </a>\n",
    "#### <a href=\"https://www.w3schools.com/python/python_ref_string.asp\"> W3 School Examples </a>"
   ]
  },
  {
   "cell_type": "markdown",
   "metadata": {},
   "source": [
    "#### <p style=\"font-family: Arial; font-size:1.4em; background-color: yellow; color:black;\"> Problem #5.1 </p>\n",
    "<ul>\n",
    "<li> Run all the example code cells below \n",
    "</ul>"
   ]
  },
  {
   "cell_type": "markdown",
   "metadata": {},
   "source": [
    "#### The string value can be accessed by <mark style=\"background-color:yellow; color:black\">index</mark>\n",
    "\n",
    "#### String variable can be followed by all the <mark style=\"background-color:yellow; color:black\"> string methods.</mark>\n"
   ]
  },
  {
   "cell_type": "code",
   "execution_count": 99,
   "metadata": {},
   "outputs": [
    {
     "name": "stdout",
     "output_type": "stream",
     "text": [
      "Python Programming\n",
      "Python\n",
      "Python \n",
      "Python Programmin\n",
      "['Python', 'Programming']\n",
      "Python\n",
      "Programming\n"
     ]
    }
   ],
   "source": [
    "cname = \"Python Programming\"\n",
    "\n",
    "print (cname)\n",
    "print (cname[:6])\n",
    "print (cname[:-11])\n",
    "print (cname[:-1])\n",
    "\n",
    "\n",
    "print (cname.split(\" \"))\n",
    "print (cname.split()[0])\n",
    "print (cname.split()[1])"
   ]
  },
  {
   "attachments": {},
   "cell_type": "markdown",
   "metadata": {},
   "source": [
    "### String Methods Examples\n"
   ]
  },
  {
   "cell_type": "code",
   "execution_count": 100,
   "metadata": {},
   "outputs": [
    {
     "name": "stdout",
     "output_type": "stream",
     "text": [
      "Number of Livermore occurrence 1\n",
      "Number of          1 occurrence Livermore \n",
      "Index of Livermore 19\n",
      "Index of Livermore 19\n",
      "Livermore\n"
     ]
    }
   ],
   "source": [
    "string1 = 'Python Programming Livermore'\n",
    "substring = 'py'\n",
    "\n",
    "city = 'Livermore'\n",
    "cnt = string1.count(city)\n",
    "print ('Number of {1} occurrence {0}'.format(cnt, city))\n",
    "print (f'Number of {cnt:10} occurrence {city:10}')\n",
    "\n",
    "idx = string1.find('Livermore') \n",
    "print ('Index of Livermore', idx)\n",
    "idx = string1.find('Livermore', 8) \n",
    "print ('Index of Livermore', idx)\n",
    "\n",
    "print (string1[idx:idx+len(city)])\n"
   ]
  },
  {
   "cell_type": "code",
   "execution_count": 101,
   "metadata": {},
   "outputs": [
    {
     "name": "stdout",
     "output_type": "stream",
     "text": [
      "['Python', ' Java', ' C++', ' Ruby', ' Rail', ' Java Script', ' PHP', ' Go', ' Gotlin']\n",
      "Python\n"
     ]
    }
   ],
   "source": [
    "\n",
    "languages = 'Python, Java, C++, Ruby, Rail, Java Script, PHP, Go, Gotlin'\n",
    "list_languages = languages.split(',')\n",
    "\n",
    "print (list_languages)\n",
    "print (list_languages[0])\n"
   ]
  },
  {
   "cell_type": "markdown",
   "metadata": {},
   "source": [
    "#### strip() methods"
   ]
  },
  {
   "cell_type": "code",
   "execution_count": 102,
   "metadata": {},
   "outputs": [
    {
     "data": {
      "text/plain": [
       "'Python Programming'"
      ]
     },
     "execution_count": 102,
     "metadata": {},
     "output_type": "execute_result"
    }
   ],
   "source": [
    "strval = 'Python Programming    '   \n",
    "## strval has the additional spaces after values\n",
    "\n",
    "strval = strval.strip() # now, the spaces after string value have been stripped\n",
    "strval"
   ]
  },
  {
   "cell_type": "code",
   "execution_count": 103,
   "metadata": {},
   "outputs": [
    {
     "name": "stdout",
     "output_type": "stream",
     "text": [
      "    Python   \n",
      "    Python\n",
      "Python   \n"
     ]
    }
   ],
   "source": [
    "\n",
    "## rstrip\n",
    "\n",
    "blank_padded_str = \"    Python   \"\n",
    "print (blank_padded_str)\n",
    "rstripped_str = blank_padded_str.rstrip(' ') \n",
    "print (rstripped_str)\n",
    "\n",
    "lstripped_str = blank_padded_str.lstrip(' ') \n",
    "print (lstripped_str)\n",
    "\n",
    "garbage_padded = '   Pyhton_+$?....'\n",
    "rstripped_str = garbage_padded.rstrip('_+?.')\n"
   ]
  },
  {
   "cell_type": "markdown",
   "metadata": {},
   "source": [
    "## isalnum, isalpha, isdigit, isnumeric"
   ]
  },
  {
   "cell_type": "code",
   "execution_count": 104,
   "metadata": {},
   "outputs": [
    {
     "name": "stdout",
     "output_type": "stream",
     "text": [
      "True\n",
      "False\n",
      "True\n",
      "True\n",
      "True\n"
     ]
    }
   ],
   "source": [
    "\n",
    "val1 = 'Python'\n",
    "print (val1.isalpha())\n",
    "val1 = 'Python3'\n",
    "print (val1.isalpha())\n",
    "\n",
    "\n",
    "val2 = '94543'\n",
    "print (val2.isnumeric())\n",
    "print (val2.isdigit())\n",
    "print (val2.isdecimal())\n",
    "\n"
   ]
  },
  {
   "cell_type": "code",
   "execution_count": 105,
   "metadata": {},
   "outputs": [
    {
     "name": "stdout",
     "output_type": "stream",
     "text": [
      "string\n"
     ]
    }
   ],
   "source": [
    "original_str = input('Enter your string')\n",
    "word_str = input('Enter the serach keyword')\n",
    "\n",
    "idx = original_str.find(word_str)\n",
    "print (original_str[idx: idx+len(word_str)])\n",
    "\n"
   ]
  },
  {
   "cell_type": "markdown",
   "metadata": {},
   "source": [
    "## split()"
   ]
  },
  {
   "cell_type": "code",
   "execution_count": 106,
   "metadata": {},
   "outputs": [
    {
     "data": {
      "text/plain": [
       "['Python', 'Java', 'PHP', 'C++', 'R', 'SQL']"
      ]
     },
     "execution_count": 106,
     "metadata": {},
     "output_type": "execute_result"
    }
   ],
   "source": [
    "strval = \"Python Java PHP C++ R SQL\"\n",
    "strval.split()"
   ]
  },
  {
   "cell_type": "code",
   "execution_count": 107,
   "metadata": {},
   "outputs": [
    {
     "name": "stdout",
     "output_type": "stream",
     "text": [
      "['Python', 'Java', 'PHP', 'C++', 'R', 'SQL']\n"
     ]
    }
   ],
   "source": [
    "strval = \"Python Java PHP C++ R SQL\"\n",
    "strval = strval.split()\n",
    "print (strval)"
   ]
  },
  {
   "cell_type": "markdown",
   "metadata": {},
   "source": [
    "#### <p style=\"font-family: Arial; font-size:1.4em; background-color: yellow; color:black;\"> Problem #5.2 </p>\n",
    "> <p> 1. Print the first name from the given names using the indices  </p>"
   ]
  },
  {
   "cell_type": "code",
   "execution_count": 108,
   "metadata": {},
   "outputs": [
    {
     "data": {
      "text/plain": [
       "'John'"
      ]
     },
     "execution_count": 108,
     "metadata": {},
     "output_type": "execute_result"
    }
   ],
   "source": [
    "name = \"John Doe\"\n",
    "fname = name[:4]\n",
    "fname"
   ]
  },
  {
   "cell_type": "markdown",
   "metadata": {},
   "source": [
    "> 2. Print the last name from the given name using the indices"
   ]
  },
  {
   "cell_type": "code",
   "execution_count": 113,
   "metadata": {},
   "outputs": [
    {
     "data": {
      "text/plain": [
       "'Doe'"
      ]
     },
     "execution_count": 113,
     "metadata": {},
     "output_type": "execute_result"
    }
   ],
   "source": [
    "name = \"Doe\" # complete this code\n",
    "lname = name[:3]\n",
    "lname"
   ]
  },
  {
   "cell_type": "markdown",
   "metadata": {},
   "source": [
    "> 3. Create a new variable that holds the last and first name, like \"Doe John\" "
   ]
  },
  {
   "cell_type": "code",
   "execution_count": 155,
   "metadata": {},
   "outputs": [
    {
     "name": "stdout",
     "output_type": "stream",
     "text": [
      "('Doe', 'John')\n"
     ]
    }
   ],
   "source": [
    "fname = \"John\"\n",
    "lname = \"Doe\"\n",
    "new_name = lname, fname\n",
    "print (new_name)"
   ]
  },
  {
   "cell_type": "markdown",
   "metadata": {},
   "source": [
    "#### <p style=\"font-family: Arial; font-size:1.4em; background-color: yellow; color:black;\"> Problem #5.3 </p>\n",
    "> <p> 1. Find the index of first space in the name </p>"
   ]
  },
  {
   "cell_type": "code",
   "execution_count": 156,
   "metadata": {},
   "outputs": [
    {
     "data": {
      "text/plain": [
       "4"
      ]
     },
     "execution_count": 156,
     "metadata": {},
     "output_type": "execute_result"
    }
   ],
   "source": [
    "name = 'Jane Doe'\n",
    "found_index = name.find(' ')\n",
    "found_index"
   ]
  },
  {
   "cell_type": "markdown",
   "metadata": {},
   "source": [
    "> <p> 2. Find the index of the symbol '@' in the email string </p>"
   ]
  },
  {
   "cell_type": "code",
   "execution_count": 160,
   "metadata": {},
   "outputs": [
    {
     "data": {
      "text/plain": [
       "4"
      ]
     },
     "execution_count": 160,
     "metadata": {},
     "output_type": "execute_result"
    }
   ],
   "source": [
    "email_str = 'John@company.com'\n",
    "idx = email_str.find('@')\n",
    "idx"
   ]
  },
  {
   "cell_type": "markdown",
   "metadata": {},
   "source": [
    "> <p> 3. Find the 2nd index of the symbol '.' in the email string </p>"
   ]
  },
  {
   "cell_type": "code",
   "execution_count": 162,
   "metadata": {},
   "outputs": [
    {
     "data": {
      "text/plain": [
       "16"
      ]
     },
     "execution_count": 162,
     "metadata": {},
     "output_type": "execute_result"
    }
   ],
   "source": [
    "email_str = 'noreply@database.company.edu'\n",
    "idx_dot = email_str.find('.')\n",
    "idx_dot"
   ]
  },
  {
   "cell_type": "markdown",
   "metadata": {},
   "source": [
    "> <p> 4. Does the email ID '2myemail' start with alphabet ? </p>\n",
    "- Use the method <mark> isalpha() </mark>"
   ]
  },
  {
   "cell_type": "code",
   "execution_count": 163,
   "metadata": {},
   "outputs": [
    {
     "name": "stdout",
     "output_type": "stream",
     "text": [
      "False\n"
     ]
    }
   ],
   "source": [
    "email_id = '2myemail'\n",
    "result = email_id[0].isalpha()\n",
    "print (result)"
   ]
  },
  {
   "cell_type": "markdown",
   "metadata": {},
   "source": [
    "> <p> 5. Does the email ID 'myemail.1234' include non-alphabet letters ? </p>\n",
    "- Use the method <mark> isalpha() </mark>"
   ]
  },
  {
   "cell_type": "code",
   "execution_count": 166,
   "metadata": {},
   "outputs": [
    {
     "name": "stdout",
     "output_type": "stream",
     "text": [
      "True\n"
     ]
    }
   ],
   "source": [
    "email_id = 'myemail.1234'\n",
    "result = email_id[0].isalpha()# complete this code\n",
    "print (result)"
   ]
  },
  {
   "cell_type": "markdown",
   "metadata": {},
   "source": [
    "> <p> 6. Does the email ID 'myemail.1234' end with the digit? </p>\n",
    "- Use the method <mark> isalpha() </mark>"
   ]
  },
  {
   "cell_type": "code",
   "execution_count": 168,
   "metadata": {},
   "outputs": [
    {
     "name": "stdout",
     "output_type": "stream",
     "text": [
      "<built-in method isalpha of str object at 0x1052b9bf8>\n"
     ]
    }
   ],
   "source": [
    "email_id = 'myeamil.1234'\n",
    "result = email_id[0].isalpha # complete this code\n",
    "print (result)"
   ]
  },
  {
   "cell_type": "markdown",
   "metadata": {},
   "source": [
    "#### <p style=\"font-family: Arial; font-size:1.4em; background-color: yellow; color:black;\"> Problem #5.4 </p>"
   ]
  },
  {
   "cell_type": "markdown",
   "metadata": {},
   "source": [
    "> <p> 1. Split this word 'Python C++ HTML PHP JAVA\" by the space \n",
    "- Use the method <mark> split() </mark>"
   ]
  },
  {
   "cell_type": "code",
   "execution_count": 169,
   "metadata": {},
   "outputs": [
    {
     "name": "stdout",
     "output_type": "stream",
     "text": [
      "['Python', 'C++', 'HTML', 'PHP', 'JAVA']\n"
     ]
    }
   ],
   "source": [
    "original_str = 'Python C++ HTML PHP JAVA'\n",
    "split_str = original_str.split()\n",
    "print (split_str)"
   ]
  },
  {
   "cell_type": "markdown",
   "metadata": {},
   "source": [
    "> <p> 2. Split the word 'John/Jane/Doe/Smith/Tom' by the '/'\n",
    "- Use the method <mark> split() </mark>"
   ]
  },
  {
   "cell_type": "code",
   "execution_count": 173,
   "metadata": {},
   "outputs": [
    {
     "name": "stdout",
     "output_type": "stream",
     "text": [
      "['John', 'Jane', 'Doe', 'Smith', 'Tom']\n"
     ]
    }
   ],
   "source": [
    "original_str = 'John/Jane/Doe/Smith/Tom'\n",
    "split_str =  original_str.split('/')# complete the code \n",
    "print (split_str)"
   ]
  },
  {
   "cell_type": "markdown",
   "metadata": {},
   "source": [
    "> <p> 3. Merge the string 'first', 'second' and 'third' with the space between each word \n",
    "- Use the operator <mark> + </mark>"
   ]
  },
  {
   "cell_type": "code",
   "execution_count": 174,
   "metadata": {},
   "outputs": [
    {
     "name": "stdout",
     "output_type": "stream",
     "text": [
      "firstsecondthird\n"
     ]
    }
   ],
   "source": [
    "str1 = 'first'\n",
    "str2 = 'second'\n",
    "str3 = 'third' \n",
    "merged_str = str1 + str2 + str3# complete the code\n",
    "print (merged_str)\n",
    "# It must print 'first second third'"
   ]
  },
  {
   "cell_type": "markdown",
   "metadata": {},
   "source": [
    "## Don't forget to <font color='red'> **\"commit\"** </font> your work or <font color='red'> **\"save\"** </font> in Google Colab\n",
    "## before moving to the next section."
   ]
  }
 ],
 "metadata": {
  "kernelspec": {
   "display_name": "base",
   "language": "python",
   "name": "python3"
  },
  "language_info": {
   "codemirror_mode": {
    "name": "ipython",
    "version": 3
   },
   "file_extension": ".py",
   "mimetype": "text/x-python",
   "name": "python",
   "nbconvert_exporter": "python",
   "pygments_lexer": "ipython3",
   "version": "3.12.4"
  },
  "orig_nbformat": 4,
  "vscode": {
   "interpreter": {
    "hash": "32cd87c0c55905266dc8232ebf1148f668af0d9324249c125246585210a29cd6"
   }
  }
 },
 "nbformat": 4,
 "nbformat_minor": 2
}
